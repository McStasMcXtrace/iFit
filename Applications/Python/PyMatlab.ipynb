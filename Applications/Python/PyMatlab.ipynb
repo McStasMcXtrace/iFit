{
 "metadata": {
  "name": "",
  "signature": "sha256:c3bc2ed279536c21bd46cf818c9c03ad47f6b6e8424b650a208e7cb30a675621"
 },
 "nbformat": 3,
 "nbformat_minor": 0,
 "worksheets": [
  {
   "cells": [
    {
     "cell_type": "code",
     "collapsed": false,
     "input": [
      "# Use Shift-Return to execute a cell.\n",
      "# This cell initialises the Python-Matlab wrapper\n",
      "# The session is started with the 'open' method which uses 'matlab' as executable,\n",
      "# but can also use a specific executable/path.\n",
      "from matlab import Matlab\n",
      "m=Matlab('ifit') # and m.Matlab() to use the 'matlab' command"
     ],
     "language": "python",
     "metadata": {},
     "outputs": [
      {
       "output_type": "stream",
       "stream": "stdout",
       "text": [
        "Opened session ifit -nodesktop -nosplash as PID 5947\n",
        "Starting iFit using /opt/MATLAB/MATLAB_Compiler_Runtime/v713\n"
       ]
      },
      {
       "output_type": "stream",
       "stream": "stdout",
       "text": [
        " \n"
       ]
      },
      {
       "output_type": "stream",
       "stream": "stdout",
       "text": [
        "                             _  ______ _  __ \n"
       ]
      },
      {
       "output_type": "stream",
       "stream": "stdout",
       "text": [
        "                            (_)/ ____/(_)/ /_  (C) ILL\n"
       ]
      },
      {
       "output_type": "stream",
       "stream": "stdout",
       "text": [
        "                           / // /_   / // __/ \n"
       ]
      },
      {
       "output_type": "stream",
       "stream": "stdout",
       "text": [
        "                          / // __/  / // /_   \n"
       ]
      },
      {
       "output_type": "stream",
       "stream": "stdout",
       "text": [
        "                         /_//_/    /_/ \\__/   \n"
       ]
      },
      {
       "output_type": "stream",
       "stream": "stdout",
       "text": [
        " \n"
       ]
      },
      {
       "output_type": "stream",
       "stream": "stdout",
       "text": [
        "                          ** Welcome to iFit **\n"
       ]
      },
      {
       "output_type": "stream",
       "stream": "stdout",
       "text": [
        "                            <ifit.mccode.org>\n"
       ]
      },
      {
       "output_type": "stream",
       "stream": "stdout",
       "text": [
        "                E. Farhi, Institut Laue Langevin, France (c)\n"
       ]
      },
      {
       "output_type": "stream",
       "stream": "stdout",
       "text": [
        "                      Licensed under the EUPL V.1.1\n"
       ]
      },
      {
       "output_type": "stream",
       "stream": "stdout",
       "text": [
        " \n"
       ]
      },
      {
       "output_type": "stream",
       "stream": "stdout",
       "text": [
        "1.10-170803 iFit/iData (ao\u00fbt. 03, 2017) by E.Farhi, P. Willendrup and Y.Debab, (c) ILL/DS/CS <farhi@ill.eu> EUPL. ao\u00fbt. 03, 2017\n"
       ]
      },
      {
       "output_type": "stream",
       "stream": "stdout",
       "text": [
        " \n"
       ]
      },
      {
       "output_type": "stream",
       "stream": "stdout",
       "text": [
        "** Starting iFit on 05-Aug-2017 18:04:14\n"
       ]
      },
      {
       "output_type": "stream",
       "stream": "stdout",
       "text": [
        "   Type 'help' to learn how to use this software.\n"
       ]
      },
      {
       "output_type": "stream",
       "stream": "stdout",
       "text": [
        "   iFit   help is fully available at <http://ifit.mccode.org>.\n"
       ]
      },
      {
       "output_type": "stream",
       "stream": "stdout",
       "text": [
        "   Matlab help is fully available at <http://www.mathworks.com/help/techdoc>.\n"
       ]
      },
      {
       "output_type": "stream",
       "stream": "stdout",
       "text": [
        "   Type 'exit' or Ctrl-C to exit.\n"
       ]
      },
      {
       "output_type": "stream",
       "stream": "stdout",
       "text": [
        "** Applications (User Interfaces):\n"
       ]
      },
      {
       "output_type": "stream",
       "stream": "stdout",
       "text": [
        "   mifit (main GUI), rescal (neutron TAS), sqw_phonons (Phonons/DFT), \n"
       ]
      },
      {
       "output_type": "stream",
       "stream": "stdout",
       "text": [
        "   sqw_spinw (SpinW, sw), TextEdit (editor/commands)\n"
       ]
      },
      {
       "output_type": "stream",
       "stream": "stdout",
       "text": [
        "** Example data files: /home/farhi/.mcrCache7.13/ifit_71/home/farhi/dev/ifit-1.10-170803/Objects/@iData/../../Data\n"
       ]
      },
      {
       "output_type": "stream",
       "stream": "stdout",
       "text": [
        "WARNING: do NOT use accent characters at the prompt. This will CRASH. Use the TextEdit command to use a safe editor.\n"
       ]
      },
      {
       "output_type": "stream",
       "stream": "stdout",
       "text": [
        " \n"
       ]
      },
      {
       "output_type": "stream",
       "stream": "stdout",
       "text": [
        "iFit:1>> argument -nosplash\n"
       ]
      },
      {
       "output_type": "stream",
       "stream": "stdout",
       "text": [
        "iFit:2>> argument -nodesktop\n"
       ]
      },
      {
       "output_type": "stream",
       "stream": "stdout",
       "text": [
        "iFit:3 \n"
       ]
      },
      {
       "output_type": "stream",
       "stream": "stdout",
       "text": [
        " \n"
       ]
      }
     ],
     "prompt_number": 1
    },
    {
     "cell_type": "code",
     "collapsed": false,
     "input": [
      "# the 'set' command sends a variable in the Matlab session. \n",
      "# You can use any python/numpy class as value\n",
      "m.set('a',1)\n"
     ],
     "language": "python",
     "metadata": {},
     "outputs": [
      {
       "output_type": "stream",
       "stream": "stdout",
       "text": [
        "iFit:4  iFit:5  \n"
       ]
      }
     ],
     "prompt_number": 2
    },
    {
     "cell_type": "code",
     "collapsed": false,
     "input": [
      "# The get method grabs a variable from the Matlab workspace.\n",
      "# The returned types mimic the Matlab classes.\n",
      "a = m.get('a')\n",
      "a"
     ],
     "language": "python",
     "metadata": {},
     "outputs": [
      {
       "output_type": "stream",
       "stream": "stdout",
       "text": [
        "iFit:6  iFit:7  \n"
       ]
      },
      {
       "metadata": {},
       "output_type": "pyout",
       "prompt_number": 3,
       "text": [
        "1"
       ]
      }
     ],
     "prompt_number": 3
    },
    {
     "cell_type": "code",
     "collapsed": false,
     "input": [
      "# The 'eval' method evaluates a Matlab expression. \n",
      "# The expression can also make use of control statements such as if, else, for, while, ...\n",
      "m.eval(\"b=iData(peaks)\")"
     ],
     "language": "python",
     "metadata": {},
     "outputs": [
      {
       "output_type": "stream",
       "stream": "stdout",
       "text": [
        "iFit:8 >> b =  iData 2D object:\n"
       ]
      },
      {
       "output_type": "stream",
       "stream": "stdout",
       "text": [
        "\n"
       ]
      },
      {
       "output_type": "stream",
       "stream": "stdout",
       "text": [
        "    [Tag] [Dimension]                                     [Title] [Last command]\n"
       ]
      },
      {
       "output_type": "stream",
       "stream": "stdout",
       "text": [
        " iD149830     [49 49]                             '\"Data Signal\"' iData([6.67128029671... \n"
       ]
      },
      {
       "output_type": "stream",
       "stream": "stdout",
       "text": [
        "iFit:9 \n"
       ]
      }
     ],
     "prompt_number": 4
    },
    {
     "cell_type": "code",
     "collapsed": false,
     "input": [
      "# The flush method request the 'busy' state of the Matlab kernel, and displays the standard\n",
      "# output. 'False' means 'Idle' state.\n",
      "m.flush()\n"
     ],
     "language": "python",
     "metadata": {},
     "outputs": []
    },
    {
     "cell_type": "code",
     "collapsed": false,
     "input": [
      "# Here the iData object 'b' is imported into Python as a named numpy array.\n",
      "b = m.get('b')\n",
      "b"
     ],
     "language": "python",
     "metadata": {},
     "outputs": [
      {
       "output_type": "stream",
       "stream": "stdout",
       "text": [
        "iFit:10  iFit:11  \n"
       ]
      },
      {
       "metadata": {},
       "output_type": "pyout",
       "prompt_number": 6,
       "text": [
        "array((u'iD149830', [], u'/home/farhi/dev/iFit/Applications/Python', u'1.10-170803 iFit/iData (ao\\xfbt. 03, 2017) by E.Farhi, P. Willendrup and Y.Debab, (c) ILL/DS/CS <farhi@ill.eu> EUPL. ao\\xfbt. 03, 2017', u'farhi', [2017.0, 8.0, 5.0, 18.0, 4.0, 29.297893], [2017.0, 8.0, 5.0, 18.0, 4.0, 29.297809], u'iData([6.67128029671744e-05 0.000103807734320312 0.000156107239919014 0.00022663103973066 0.00031701660671442 0.000425869848954711 0.00054635138776255 0.000662919828359048 0.000747343378954833 0.000754440003439909])', [], [], [], (array([[  6.67128030e-05,   1.26496144e-04,   2.30751203e-04, ...,\n",
        "         -5.53992996e-05,  -2.00869313e-05,  -5.86418787e-06],\n",
        "       [  1.03807734e-04,   1.96620973e-04,   3.58088114e-04, ...,\n",
        "         -9.35227415e-05,  -3.39563401e-05,  -9.94175083e-06],\n",
        "       [  1.56107240e-04,   2.95583957e-04,   5.37853113e-04, ...,\n",
        "         -1.46658120e-04,  -5.23166488e-05,  -1.46553040e-05],\n",
        "       ..., \n",
        "       [  8.07512378e-05,   1.74053424e-04,   3.61838717e-04, ...,\n",
        "          4.79241522e-04,   2.41173427e-04,   1.17775544e-04],\n",
        "       [  5.23997360e-05,   1.12058629e-04,   2.31434509e-04, ...,\n",
        "          2.89554579e-04,   1.45286199e-04,   7.07284766e-05],\n",
        "       [  3.22353596e-05,   6.85508645e-05,   1.40909144e-04, ...,\n",
        "          1.68796006e-04,   8.44939106e-05,   4.10297275e-05]]),), (array([u'Signal', u'Error', u'Monitor'], dtype=object), array([u'Data.Signal', array([], dtype=float64), array([], dtype=float64)], dtype=object), array([u'Data Signal', u'Error on Signal', u'Monitor (weight)'], dtype=object), array([], dtype=float64)), u'iData'), \n",
        "      dtype=[('Tag', 'O'), ('Title', 'O'), ('Source', 'O'), ('Creator', 'O'), ('User', 'O'), ('Date', 'O'), ('ModificationDate', 'O'), ('Command', 'O'), ('UserData', 'O'), ('Label', 'O'), ('DisplayName', 'O'), ('Data', 'O'), ('Alias', 'O'), ('class', 'O')])"
       ]
      }
     ],
     "prompt_number": 6
    },
    {
     "cell_type": "code",
     "collapsed": false,
     "input": [
      "# You can access the iData properties just as with a dict\n",
      "b['Tag']\n"
     ],
     "language": "python",
     "metadata": {},
     "outputs": [
      {
       "metadata": {},
       "output_type": "pyout",
       "prompt_number": 15,
       "text": [
        "array(u'iD149830', dtype=object)"
       ]
      }
     ],
     "prompt_number": 15
    },
    {
     "cell_type": "code",
     "collapsed": false,
     "input": [
      "m.get('b.Signal') # and the Signal"
     ],
     "language": "python",
     "metadata": {},
     "outputs": [
      {
       "output_type": "stream",
       "stream": "stdout",
       "text": [
        "iFit:26  iFit:27  \n"
       ]
      },
      {
       "metadata": {},
       "output_type": "pyout",
       "prompt_number": 18,
       "text": [
        "array([[  6.67128030e-05,   1.26496144e-04,   2.30751203e-04, ...,\n",
        "         -5.53992996e-05,  -2.00869313e-05,  -5.86418787e-06],\n",
        "       [  1.03807734e-04,   1.96620973e-04,   3.58088114e-04, ...,\n",
        "         -9.35227415e-05,  -3.39563401e-05,  -9.94175083e-06],\n",
        "       [  1.56107240e-04,   2.95583957e-04,   5.37853113e-04, ...,\n",
        "         -1.46658120e-04,  -5.23166488e-05,  -1.46553040e-05],\n",
        "       ..., \n",
        "       [  8.07512378e-05,   1.74053424e-04,   3.61838717e-04, ...,\n",
        "          4.79241522e-04,   2.41173427e-04,   1.17775544e-04],\n",
        "       [  5.23997360e-05,   1.12058629e-04,   2.31434509e-04, ...,\n",
        "          2.89554579e-04,   1.45286199e-04,   7.07284766e-05],\n",
        "       [  3.22353596e-05,   6.85508645e-05,   1.40909144e-04, ...,\n",
        "          1.68796006e-04,   8.44939106e-05,   4.10297275e-05]])"
       ]
      }
     ],
     "prompt_number": 18
    },
    {
     "cell_type": "code",
     "collapsed": false,
     "input": [
      "m.get('getaxis(b)') # the list of defined axes (here none)"
     ],
     "language": "python",
     "metadata": {},
     "outputs": [
      {
       "output_type": "stream",
       "stream": "stdout",
       "text": [
        "iFit:28  iFit:29  \n"
       ]
      },
      {
       "metadata": {},
       "output_type": "pyout",
       "prompt_number": 19,
       "text": [
        "array([], dtype=float64)"
       ]
      }
     ],
     "prompt_number": 19
    },
    {
     "cell_type": "code",
     "collapsed": false,
     "input": [
      "m.get('b{1}') # a specific axis value"
     ],
     "language": "python",
     "metadata": {},
     "outputs": [
      {
       "output_type": "stream",
       "stream": "stdout",
       "text": [
        "iFit:30  iFit:31  \n"
       ]
      },
      {
       "metadata": {},
       "output_type": "pyout",
       "prompt_number": 20,
       "text": [
        "array([ 1,  2,  3,  4,  5,  6,  7,  8,  9, 10, 11, 12, 13, 14, 15, 16, 17,\n",
        "       18, 19, 20, 21, 22, 23, 24, 25, 26, 27, 28, 29, 30, 31, 32, 33, 34,\n",
        "       35, 36, 37, 38, 39, 40, 41, 42, 43, 44, 45, 46, 47, 48, 49], dtype=uint8)"
       ]
      }
     ],
     "prompt_number": 20
    },
    {
     "cell_type": "code",
     "collapsed": false,
     "input": [
      "m.get('ndims(b)') # the dimension of the object"
     ],
     "language": "python",
     "metadata": {},
     "outputs": [
      {
       "output_type": "stream",
       "stream": "stdout",
       "text": [
        "iFit:32 >> Warning: iData/getaxis: The 1-th rank axis has not been defined yet (use setaxis).\n"
       ]
      },
      {
       "output_type": "stream",
       "stream": "stdout",
       "text": [
        "\tUsing default value=1:49 in object b iD149830 \"\".\n"
       ]
      },
      {
       "output_type": "stream",
       "stream": "stdout",
       "text": [
        "iFit:33  \n"
       ]
      },
      {
       "metadata": {},
       "output_type": "pyout",
       "prompt_number": 21,
       "text": [
        "2"
       ]
      }
     ],
     "prompt_number": 21
    },
    {
     "cell_type": "code",
     "collapsed": false,
     "input": [
      "# when you're done, you can close the Matlab/iFit session\n",
      "m.close()"
     ],
     "language": "python",
     "metadata": {},
     "outputs": []
    },
    {
     "cell_type": "code",
     "collapsed": false,
     "input": [],
     "language": "python",
     "metadata": {},
     "outputs": []
    }
   ],
   "metadata": {}
  }
 ]
}